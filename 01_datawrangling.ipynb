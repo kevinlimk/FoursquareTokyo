{
 "cells": [
  {
   "cell_type": "markdown",
   "metadata": {},
   "source": [
    "# Predicting Check-ins of Foursquare Users in Tokyo"
   ]
  },
  {
   "cell_type": "markdown",
   "metadata": {},
   "source": [
    "## 1 - Data Wrangling"
   ]
  },
  {
   "cell_type": "code",
   "execution_count": 1,
   "metadata": {
    "ExecuteTime": {
     "end_time": "2019-12-11T00:02:58.383506Z",
     "start_time": "2019-12-11T00:02:54.942553Z"
    },
    "collapsed": true
   },
   "outputs": [],
   "source": [
    "# Import libraries.\n",
    "import pandas as pd\n",
    "import numpy as np\n",
    "from datetime import datetime\n",
    "import urllib.request\n",
    "import json\n",
    "from pandas.io.json import json_normalize"
   ]
  },
  {
   "cell_type": "code",
   "execution_count": 2,
   "metadata": {
    "ExecuteTime": {
     "end_time": "2019-12-11T00:03:00.996171Z",
     "start_time": "2019-12-11T00:02:58.386294Z"
    },
    "collapsed": true
   },
   "outputs": [],
   "source": [
    "# Data obtained from Kaggle (https://www.kaggle.com/chetanism/foursquare-nyc-and-tokyo-checkin-dataset/data).\n",
    "df = pd.read_csv('dataset_TSMC2014_TKY.csv')"
   ]
  },
  {
   "cell_type": "code",
   "execution_count": 3,
   "metadata": {
    "ExecuteTime": {
     "end_time": "2019-12-11T00:03:01.386229Z",
     "start_time": "2019-12-11T00:03:00.998724Z"
    },
    "scrolled": false
   },
   "outputs": [
    {
     "name": "stdout",
     "output_type": "stream",
     "text": [
      "<class 'pandas.core.frame.DataFrame'>\n",
      "RangeIndex: 573703 entries, 0 to 573702\n",
      "Data columns (total 8 columns):\n",
      "userId             573703 non-null int64\n",
      "venueId            573703 non-null object\n",
      "venueCategoryId    573703 non-null object\n",
      "venueCategory      573703 non-null object\n",
      "latitude           573703 non-null float64\n",
      "longitude          573703 non-null float64\n",
      "timezoneOffset     573703 non-null int64\n",
      "utcTimestamp       573703 non-null object\n",
      "dtypes: float64(2), int64(2), object(4)\n",
      "memory usage: 35.0+ MB\n"
     ]
    },
    {
     "data": {
      "text/html": [
       "<div>\n",
       "<style>\n",
       "    .dataframe thead tr:only-child th {\n",
       "        text-align: right;\n",
       "    }\n",
       "\n",
       "    .dataframe thead th {\n",
       "        text-align: left;\n",
       "    }\n",
       "\n",
       "    .dataframe tbody tr th {\n",
       "        vertical-align: top;\n",
       "    }\n",
       "</style>\n",
       "<table border=\"1\" class=\"dataframe\">\n",
       "  <thead>\n",
       "    <tr style=\"text-align: right;\">\n",
       "      <th></th>\n",
       "      <th>userId</th>\n",
       "      <th>venueId</th>\n",
       "      <th>venueCategoryId</th>\n",
       "      <th>venueCategory</th>\n",
       "      <th>latitude</th>\n",
       "      <th>longitude</th>\n",
       "      <th>timezoneOffset</th>\n",
       "      <th>utcTimestamp</th>\n",
       "    </tr>\n",
       "  </thead>\n",
       "  <tbody>\n",
       "    <tr>\n",
       "      <th>0</th>\n",
       "      <td>1541</td>\n",
       "      <td>4f0fd5a8e4b03856eeb6c8cb</td>\n",
       "      <td>4bf58dd8d48988d10c951735</td>\n",
       "      <td>Cosmetics Shop</td>\n",
       "      <td>35.705101</td>\n",
       "      <td>139.619590</td>\n",
       "      <td>540</td>\n",
       "      <td>Tue Apr 03 18:17:18 +0000 2012</td>\n",
       "    </tr>\n",
       "    <tr>\n",
       "      <th>1</th>\n",
       "      <td>868</td>\n",
       "      <td>4b7b884ff964a5207d662fe3</td>\n",
       "      <td>4bf58dd8d48988d1d1941735</td>\n",
       "      <td>Ramen /  Noodle House</td>\n",
       "      <td>35.715581</td>\n",
       "      <td>139.800317</td>\n",
       "      <td>540</td>\n",
       "      <td>Tue Apr 03 18:22:04 +0000 2012</td>\n",
       "    </tr>\n",
       "    <tr>\n",
       "      <th>2</th>\n",
       "      <td>114</td>\n",
       "      <td>4c16fdda96040f477cc473a5</td>\n",
       "      <td>4d954b0ea243a5684a65b473</td>\n",
       "      <td>Convenience Store</td>\n",
       "      <td>35.714542</td>\n",
       "      <td>139.480065</td>\n",
       "      <td>540</td>\n",
       "      <td>Tue Apr 03 19:12:07 +0000 2012</td>\n",
       "    </tr>\n",
       "    <tr>\n",
       "      <th>3</th>\n",
       "      <td>868</td>\n",
       "      <td>4c178638c2dfc928651ea869</td>\n",
       "      <td>4bf58dd8d48988d118951735</td>\n",
       "      <td>Food &amp; Drink Shop</td>\n",
       "      <td>35.725592</td>\n",
       "      <td>139.776633</td>\n",
       "      <td>540</td>\n",
       "      <td>Tue Apr 03 19:12:13 +0000 2012</td>\n",
       "    </tr>\n",
       "    <tr>\n",
       "      <th>4</th>\n",
       "      <td>1458</td>\n",
       "      <td>4f568309e4b071452e447afe</td>\n",
       "      <td>4f2a210c4b9023bd5841ed28</td>\n",
       "      <td>Housing Development</td>\n",
       "      <td>35.656083</td>\n",
       "      <td>139.734046</td>\n",
       "      <td>540</td>\n",
       "      <td>Tue Apr 03 19:18:23 +0000 2012</td>\n",
       "    </tr>\n",
       "  </tbody>\n",
       "</table>\n",
       "</div>"
      ],
      "text/plain": [
       "   userId                   venueId           venueCategoryId  \\\n",
       "0    1541  4f0fd5a8e4b03856eeb6c8cb  4bf58dd8d48988d10c951735   \n",
       "1     868  4b7b884ff964a5207d662fe3  4bf58dd8d48988d1d1941735   \n",
       "2     114  4c16fdda96040f477cc473a5  4d954b0ea243a5684a65b473   \n",
       "3     868  4c178638c2dfc928651ea869  4bf58dd8d48988d118951735   \n",
       "4    1458  4f568309e4b071452e447afe  4f2a210c4b9023bd5841ed28   \n",
       "\n",
       "           venueCategory   latitude   longitude  timezoneOffset  \\\n",
       "0         Cosmetics Shop  35.705101  139.619590             540   \n",
       "1  Ramen /  Noodle House  35.715581  139.800317             540   \n",
       "2      Convenience Store  35.714542  139.480065             540   \n",
       "3      Food & Drink Shop  35.725592  139.776633             540   \n",
       "4    Housing Development  35.656083  139.734046             540   \n",
       "\n",
       "                     utcTimestamp  \n",
       "0  Tue Apr 03 18:17:18 +0000 2012  \n",
       "1  Tue Apr 03 18:22:04 +0000 2012  \n",
       "2  Tue Apr 03 19:12:07 +0000 2012  \n",
       "3  Tue Apr 03 19:12:13 +0000 2012  \n",
       "4  Tue Apr 03 19:18:23 +0000 2012  "
      ]
     },
     "execution_count": 3,
     "metadata": {},
     "output_type": "execute_result"
    }
   ],
   "source": [
    "# Inspect the data.\n",
    "df.info()\n",
    "df.head()"
   ]
  },
  {
   "cell_type": "code",
   "execution_count": 4,
   "metadata": {
    "ExecuteTime": {
     "end_time": "2019-12-11T00:03:06.451478Z",
     "start_time": "2019-12-11T00:03:01.392386Z"
    },
    "collapsed": true
   },
   "outputs": [],
   "source": [
    "# Create a new column timestamp with datetime type.\n",
    "df['timestamp'] = pd.to_datetime(\n",
    "    df.utcTimestamp, format='%a %b %d %H:%M:%S +0000 %Y')"
   ]
  },
  {
   "cell_type": "code",
   "execution_count": 5,
   "metadata": {
    "ExecuteTime": {
     "end_time": "2019-12-11T00:03:06.956792Z",
     "start_time": "2019-12-11T00:03:06.455231Z"
    },
    "collapsed": true
   },
   "outputs": [],
   "source": [
    "# Set the new timestamp column as the new index and adjust to local time in Tokyo.\n",
    "df.set_index('timestamp', inplace=True)\n",
    "df.index = df.index.tz_localize('UTC').tz_convert(\n",
    "    'Asia/Tokyo').tz_localize(None)\n",
    "df.sort_index(inplace=True)"
   ]
  },
  {
   "cell_type": "code",
   "execution_count": 6,
   "metadata": {
    "ExecuteTime": {
     "end_time": "2019-12-11T00:03:07.034343Z",
     "start_time": "2019-12-11T00:03:06.959873Z"
    },
    "collapsed": true
   },
   "outputs": [],
   "source": [
    "# Drop timezoneOffset, venueid, and utcTimestamp.\n",
    "# Column timezoneOffset contains the same value for every observation.\n",
    "# For the purposes of this exercise, we will not be concerned with venueid.\n",
    "# utcTimestamp is no longer needed.\n",
    "df.drop(['timezoneOffset', 'venueId', 'utcTimestamp'], axis=1, inplace=True)"
   ]
  },
  {
   "cell_type": "code",
   "execution_count": 7,
   "metadata": {
    "ExecuteTime": {
     "end_time": "2019-12-11T00:03:07.163779Z",
     "start_time": "2019-12-11T00:03:07.038816Z"
    },
    "collapsed": true,
    "scrolled": true
   },
   "outputs": [],
   "source": [
    "# Rename the columns to make them all lowercase and shorter in length.\n",
    "df = df.rename(columns={\n",
    "    'userId': 'userid',\n",
    "    'venueCategoryId': 'venuecatid',\n",
    "    'venueCategory': 'venuecat',\n",
    "    'latitude': 'lat',\n",
    "    'longitude': 'long'\n",
    "})"
   ]
  },
  {
   "cell_type": "code",
   "execution_count": 8,
   "metadata": {
    "ExecuteTime": {
     "end_time": "2019-12-11T00:03:07.451989Z",
     "start_time": "2019-12-11T00:03:07.195389Z"
    },
    "collapsed": true
   },
   "outputs": [],
   "source": [
    "# Create new features for day and hour.\n",
    "df['day'] = df.index.weekday\n",
    "df['hour'] = df.index.hour"
   ]
  },
  {
   "cell_type": "code",
   "execution_count": 9,
   "metadata": {
    "ExecuteTime": {
     "end_time": "2019-12-11T00:03:07.731527Z",
     "start_time": "2019-12-11T00:03:07.454647Z"
    }
   },
   "outputs": [
    {
     "data": {
      "text/plain": [
       "Train Station                      200428\n",
       "Subway                              41666\n",
       "Ramen /  Noodle House               17303\n",
       "Convenience Store                   16833\n",
       "Japanese Restaurant                 15680\n",
       "Bar                                 14940\n",
       "Food & Drink Shop                   14023\n",
       "Electronics Store                   10897\n",
       "Mall                                10839\n",
       "Coffee Shop                          8959\n",
       "Office                               8789\n",
       "Café                                 8603\n",
       "Bridge                               8162\n",
       "Bus Station                          7965\n",
       "Road                                 7528\n",
       "Bookstore                            7418\n",
       "Park                                 7247\n",
       "Fast Food Restaurant                 6806\n",
       "Arcade                               6153\n",
       "College Academic Building            5981\n",
       "Government Building                  5116\n",
       "Building                             5036\n",
       "Chinese Restaurant                   4718\n",
       "Hobby Shop                           4648\n",
       "Miscellaneous Shop                   4549\n",
       "Department Store                     4152\n",
       "University                           3486\n",
       "Gym / Fitness Center                 3486\n",
       "Other Great Outdoors                 3298\n",
       "Medical Center                       3280\n",
       "                                    ...  \n",
       "Flea Market                            10\n",
       "Taco Place                              9\n",
       "Fish & Chips Shop                       9\n",
       "Malaysian Restaurant                    8\n",
       "Storage Facility                        8\n",
       "Latin American Restaurant               8\n",
       "Portuguese Restaurant                   7\n",
       "Distillery                              7\n",
       "Animal Shelter                          7\n",
       "City                                    7\n",
       "College Theater                         6\n",
       "Burrito Place                           6\n",
       "South American Restaurant               6\n",
       "African Restaurant                      6\n",
       "Synagogue                               5\n",
       "Peruvian Restaurant                     5\n",
       "Cuban Restaurant                        5\n",
       "Market                                  4\n",
       "Ethiopian Restaurant                    4\n",
       "Moroccan Restaurant                     3\n",
       "Mac & Cheese Joint                      2\n",
       "Pet Service                             2\n",
       "Swiss Restaurant                        2\n",
       "Argentinian Restaurant                  2\n",
       "Gluten-free Restaurant                  1\n",
       "Ski Area                                1\n",
       "Afghan Restaurant                       1\n",
       "Arepa Restaurant                        1\n",
       "Southern / Soul Food Restaurant         1\n",
       "Falafel Restaurant                      1\n",
       "Name: venuecat, Length: 247, dtype: int64"
      ]
     },
     "execution_count": 9,
     "metadata": {},
     "output_type": "execute_result"
    }
   ],
   "source": [
    "# What are the unique venue categories?\n",
    "df.venuecat.value_counts()"
   ]
  },
  {
   "cell_type": "markdown",
   "metadata": {},
   "source": [
    "There are 247 unique venue categories. Having this many classes will make multiclass classification challenging. Let's include a coarser classification of venue category and divide it into 9 primary categories."
   ]
  },
  {
   "cell_type": "code",
   "execution_count": 10,
   "metadata": {
    "ExecuteTime": {
     "end_time": "2019-12-11T00:03:08.401520Z",
     "start_time": "2019-12-11T00:03:07.741498Z"
    },
    "collapsed": true
   },
   "outputs": [],
   "source": [
    "# Obtaining a mapping between 9 root venue categories and the 247 specific venue categories.\n",
    "with urllib.request.urlopen(\"https://api.foursquare.com/v2/venues/categories?oauth_token=QEJ4AQPTMMNB413HGNZ5YDMJSHTOHZHMLZCAQCCLXIX41OMP&v=20170211\") as url:\n",
    "    data = json.loads(url.read().decode())"
   ]
  },
  {
   "cell_type": "code",
   "execution_count": 11,
   "metadata": {
    "ExecuteTime": {
     "end_time": "2019-12-11T00:03:08.779008Z",
     "start_time": "2019-12-11T00:03:08.404441Z"
    },
    "scrolled": true
   },
   "outputs": [
    {
     "data": {
      "text/html": [
       "<div>\n",
       "<style>\n",
       "    .dataframe thead tr:only-child th {\n",
       "        text-align: right;\n",
       "    }\n",
       "\n",
       "    .dataframe thead th {\n",
       "        text-align: left;\n",
       "    }\n",
       "\n",
       "    .dataframe tbody tr th {\n",
       "        vertical-align: top;\n",
       "    }\n",
       "</style>\n",
       "<table border=\"1\" class=\"dataframe\">\n",
       "  <thead>\n",
       "    <tr style=\"text-align: right;\">\n",
       "      <th></th>\n",
       "      <th>venuecatid</th>\n",
       "      <th>name</th>\n",
       "      <th>maincat</th>\n",
       "    </tr>\n",
       "  </thead>\n",
       "  <tbody>\n",
       "    <tr>\n",
       "      <th>0</th>\n",
       "      <td>56aa371be4b08b9a8d5734db</td>\n",
       "      <td>Amphitheater</td>\n",
       "      <td>Arts &amp; Entertainment</td>\n",
       "    </tr>\n",
       "    <tr>\n",
       "      <th>1</th>\n",
       "      <td>4fceea171983d5d06c3e9823</td>\n",
       "      <td>Aquarium</td>\n",
       "      <td>Arts &amp; Entertainment</td>\n",
       "    </tr>\n",
       "    <tr>\n",
       "      <th>2</th>\n",
       "      <td>4bf58dd8d48988d1e1931735</td>\n",
       "      <td>Arcade</td>\n",
       "      <td>Arts &amp; Entertainment</td>\n",
       "    </tr>\n",
       "    <tr>\n",
       "      <th>3</th>\n",
       "      <td>4bf58dd8d48988d1e2931735</td>\n",
       "      <td>Art Gallery</td>\n",
       "      <td>Arts &amp; Entertainment</td>\n",
       "    </tr>\n",
       "    <tr>\n",
       "      <th>4</th>\n",
       "      <td>4bf58dd8d48988d1e4931735</td>\n",
       "      <td>Bowling Alley</td>\n",
       "      <td>Arts &amp; Entertainment</td>\n",
       "    </tr>\n",
       "  </tbody>\n",
       "</table>\n",
       "</div>"
      ],
      "text/plain": [
       "                 venuecatid           name               maincat\n",
       "0  56aa371be4b08b9a8d5734db   Amphitheater  Arts & Entertainment\n",
       "1  4fceea171983d5d06c3e9823       Aquarium  Arts & Entertainment\n",
       "2  4bf58dd8d48988d1e1931735         Arcade  Arts & Entertainment\n",
       "3  4bf58dd8d48988d1e2931735    Art Gallery  Arts & Entertainment\n",
       "4  4bf58dd8d48988d1e4931735  Bowling Alley  Arts & Entertainment"
      ]
     },
     "execution_count": 11,
     "metadata": {},
     "output_type": "execute_result"
    }
   ],
   "source": [
    "# The df_categories dataframe links a specific venue category to one of the 9 root 'maincat'.\n",
    "categories = range(len(data['response']['categories']))\n",
    "\n",
    "df_categories = []\n",
    "for category in categories:\n",
    "    df_category = pd.DataFrame({'id': json_normalize(data['response']['categories'][category]['categories'])['id'],\n",
    "                                'name': json_normalize(data['response']['categories'][category]['categories'])['name']\n",
    "                                })\n",
    "    df_category['category'] = json_normalize(\n",
    "        data['response']['categories'])['name'][category]\n",
    "    df_categories.append(df_category)\n",
    "df_categories = pd.concat(df_categories, axis=0)\n",
    "df_categories = df_categories.reset_index(drop=True)\n",
    "df_categories.columns = ['venuecatid', 'name', 'maincat']\n",
    "\n",
    "df_categories.head()"
   ]
  },
  {
   "cell_type": "code",
   "execution_count": 12,
   "metadata": {
    "ExecuteTime": {
     "end_time": "2019-12-11T00:03:09.241716Z",
     "start_time": "2019-12-11T00:03:08.782302Z"
    },
    "collapsed": true
   },
   "outputs": [],
   "source": [
    "# Join the tables on venuecatid.\n",
    "df = pd.merge(df, df_categories[['venuecatid', 'maincat']],\n",
    "              how='left', on='venuecatid').set_index(df.index)"
   ]
  },
  {
   "cell_type": "code",
   "execution_count": 13,
   "metadata": {
    "ExecuteTime": {
     "end_time": "2019-12-11T00:03:09.335634Z",
     "start_time": "2019-12-11T00:03:09.243880Z"
    },
    "collapsed": true
   },
   "outputs": [],
   "source": [
    "dict_maincat = {'Ramen /  Noodle House': 'Food',\n",
    "                'Food & Drink Shop': 'Shop & Service',\n",
    "                'Airport': 'Travel & Transport',\n",
    "                'Shrine': 'Professional & Other Places',\n",
    "                'Mosque': 'Professional & Other Places',\n",
    "                'Synagogue': 'Professional & Other Places',\n",
    "                'Train Station': 'Travel & Transport',\n",
    "                'Government Building': 'Professional & Other Places',\n",
    "                'Shop & Service': 'Shop & Service',\n",
    "                'Art Museum': 'Arts & Entertainment',\n",
    "                'Gym / Fitness Center': 'Outdoors & Recreation',\n",
    "                'Medical Center': 'Professional & Other Places',\n",
    "                'Bar': 'Nightlife Spot',\n",
    "                'Music Venue': 'Arts & Entertainment',\n",
    "                'Japanese Restaurant': 'Food',\n",
    "                'Chinese Restaurant': 'Food',\n",
    "                'Korean Restaurant': 'Food',\n",
    "                'Thai Restaurant': 'Food',\n",
    "                'Spanish Restaurant': 'Food',\n",
    "                'Vietnamese Restaurant': 'Food',\n",
    "                'Sushi Restaurant': 'Food',\n",
    "                'Dim Sum Restaurant': 'Food',\n",
    "                'Brazilian Restaurant': 'Food',\n",
    "                'American Restaurant': 'Food',\n",
    "                'Tapas Restaurant': 'Food',\n",
    "                'Ethiopian Restaurant': 'Food',\n",
    "                'Taco Place': 'Food',\n",
    "                'Peruvian Restaurant': 'Food',\n",
    "                'Moroccan Restaurant': 'Food',\n",
    "                'Cuban Restaurant': 'Food',\n",
    "                'Argentinian Restaurant': 'Food',\n",
    "                'Burrito Place': 'Food',\n",
    "                'Arepa Restaurant': 'Food',\n",
    "                'Malaysian Restaurant': 'Food',\n",
    "                'South American Restaurant': 'Food',\n",
    "                'College Academic Building': 'College & University',\n",
    "                'History Museum': 'Arts & Entertainment',\n",
    "                'Movie Theater': 'Arts & Entertainment',\n",
    "                'Office': 'Professional & Other Places',\n",
    "                'Temple': 'Professional & Other Places',\n",
    "                'Convention Center': 'Professional & Other Places',\n",
    "                'Bus Station': 'Travel & Transport',\n",
    "                'Stadium': 'Arts & Entertainment',\n",
    "                'High School': 'Professional & Other Places',\n",
    "                'Clothing Store': 'Shop & Service',\n",
    "                'Neighborhood': 'Outdoors & Recreation',\n",
    "                'Food': 'Food',\n",
    "                'Church': 'Professional & Other Places',\n",
    "                'Outdoors & Recreation': 'Outdoors & Recreation',\n",
    "                'Science Museum': 'Arts & Entertainment',\n",
    "                'Hotel': 'Travel & Transport',\n",
    "                'Beer Garden': 'Nightlife Spot',\n",
    "                'Theater': 'Arts & Entertainment',\n",
    "                'Athletic & Sport': 'Outdoors & Recreation',\n",
    "                'Nursery School': 'Professional & Other Places',\n",
    "                'Nightlife Spot': 'Nightlife Spot',\n",
    "                'Elementary School': 'Professional & Other Places',\n",
    "                'Travel & Transport': 'Travel & Transport',\n",
    "                'Embassy / Consulate': 'Professional & Other Places',\n",
    "                'Performing Arts Venue': 'Arts & Entertainment',\n",
    "                'College Stadium': 'College & University',\n",
    "                'Professional & Other Places': 'Professional & Other Places',\n",
    "                'Ice Cream Shop': 'Food',\n",
    "                'Cupcake Shop': 'Food',\n",
    "                'Middle School': 'Professional & Other Places',\n",
    "                'Music School': 'Professional & Other Places',\n",
    "                'College & University': 'College & University',\n",
    "                'Arts & Entertainment': 'Arts & Entertainment',\n",
    "                'Planetarium': 'Arts & Entertainment',\n",
    "                'Ferry': 'Travel & Transport',\n",
    "                'City': 'Outdoors & Recreation'}"
   ]
  },
  {
   "cell_type": "code",
   "execution_count": 14,
   "metadata": {
    "ExecuteTime": {
     "end_time": "2019-12-11T00:03:09.486556Z",
     "start_time": "2019-12-11T00:03:09.338223Z"
    },
    "collapsed": true
   },
   "outputs": [],
   "source": [
    "df.maincat = df.maincat.fillna(df.venuecat.map(dict_maincat))"
   ]
  },
  {
   "cell_type": "code",
   "execution_count": 15,
   "metadata": {
    "ExecuteTime": {
     "end_time": "2019-12-11T00:03:09.575170Z",
     "start_time": "2019-12-11T00:03:09.502262Z"
    },
    "collapsed": true
   },
   "outputs": [],
   "source": [
    "# We have finished using venuecatid to join the tables. Let's drop this column now.\n",
    "df.drop('venuecatid', axis=1, inplace=True)"
   ]
  },
  {
   "cell_type": "code",
   "execution_count": 16,
   "metadata": {
    "ExecuteTime": {
     "end_time": "2019-12-11T00:03:10.079902Z",
     "start_time": "2019-12-11T00:03:09.595987Z"
    },
    "collapsed": true
   },
   "outputs": [],
   "source": [
    "# Create new columns to encode both maincat and venuecat as numeric features.\n",
    "counts_maincat = df.maincat.value_counts()\n",
    "counts_venuecat = df.venuecat.value_counts()\n",
    "\n",
    "venuecats = np.arange(len(counts_venuecat))\n",
    "maincats = np.arange(len(counts_maincat))\n",
    "\n",
    "dict_venuecat_code = dict(zip(counts_venuecat.index, venuecats))\n",
    "dict_maincat_code = dict(zip(counts_maincat.index, maincats))\n",
    "\n",
    "df['venuecat_encoded'] = df.venuecat.map(dict_venuecat_code)\n",
    "df['maincat_encoded'] = df.maincat.map(dict_maincat_code)"
   ]
  },
  {
   "cell_type": "code",
   "execution_count": 17,
   "metadata": {
    "ExecuteTime": {
     "end_time": "2019-12-11T00:03:10.220371Z",
     "start_time": "2019-12-11T00:03:10.083945Z"
    },
    "scrolled": false
   },
   "outputs": [
    {
     "data": {
      "text/html": [
       "<div>\n",
       "<style>\n",
       "    .dataframe thead tr:only-child th {\n",
       "        text-align: right;\n",
       "    }\n",
       "\n",
       "    .dataframe thead th {\n",
       "        text-align: left;\n",
       "    }\n",
       "\n",
       "    .dataframe tbody tr th {\n",
       "        vertical-align: top;\n",
       "    }\n",
       "</style>\n",
       "<table border=\"1\" class=\"dataframe\">\n",
       "  <thead>\n",
       "    <tr style=\"text-align: right;\">\n",
       "      <th></th>\n",
       "      <th>userid</th>\n",
       "      <th>venuecat</th>\n",
       "      <th>lat</th>\n",
       "      <th>long</th>\n",
       "      <th>day</th>\n",
       "      <th>hour</th>\n",
       "      <th>maincat</th>\n",
       "      <th>venuecat_encoded</th>\n",
       "      <th>maincat_encoded</th>\n",
       "    </tr>\n",
       "    <tr>\n",
       "      <th>timestamp</th>\n",
       "      <th></th>\n",
       "      <th></th>\n",
       "      <th></th>\n",
       "      <th></th>\n",
       "      <th></th>\n",
       "      <th></th>\n",
       "      <th></th>\n",
       "      <th></th>\n",
       "      <th></th>\n",
       "    </tr>\n",
       "  </thead>\n",
       "  <tbody>\n",
       "    <tr>\n",
       "      <th>2012-04-04 03:17:18</th>\n",
       "      <td>1541</td>\n",
       "      <td>Cosmetics Shop</td>\n",
       "      <td>35.705101</td>\n",
       "      <td>139.619590</td>\n",
       "      <td>2</td>\n",
       "      <td>3</td>\n",
       "      <td>Shop &amp; Service</td>\n",
       "      <td>129</td>\n",
       "      <td>1</td>\n",
       "    </tr>\n",
       "    <tr>\n",
       "      <th>2012-04-04 03:22:04</th>\n",
       "      <td>868</td>\n",
       "      <td>Ramen /  Noodle House</td>\n",
       "      <td>35.715581</td>\n",
       "      <td>139.800317</td>\n",
       "      <td>2</td>\n",
       "      <td>3</td>\n",
       "      <td>Food</td>\n",
       "      <td>2</td>\n",
       "      <td>2</td>\n",
       "    </tr>\n",
       "    <tr>\n",
       "      <th>2012-04-04 04:12:07</th>\n",
       "      <td>114</td>\n",
       "      <td>Convenience Store</td>\n",
       "      <td>35.714542</td>\n",
       "      <td>139.480065</td>\n",
       "      <td>2</td>\n",
       "      <td>4</td>\n",
       "      <td>Shop &amp; Service</td>\n",
       "      <td>3</td>\n",
       "      <td>1</td>\n",
       "    </tr>\n",
       "    <tr>\n",
       "      <th>2012-04-04 04:12:13</th>\n",
       "      <td>868</td>\n",
       "      <td>Food &amp; Drink Shop</td>\n",
       "      <td>35.725592</td>\n",
       "      <td>139.776633</td>\n",
       "      <td>2</td>\n",
       "      <td>4</td>\n",
       "      <td>Shop &amp; Service</td>\n",
       "      <td>6</td>\n",
       "      <td>1</td>\n",
       "    </tr>\n",
       "    <tr>\n",
       "      <th>2012-04-04 04:18:23</th>\n",
       "      <td>1458</td>\n",
       "      <td>Housing Development</td>\n",
       "      <td>35.656083</td>\n",
       "      <td>139.734046</td>\n",
       "      <td>2</td>\n",
       "      <td>4</td>\n",
       "      <td>Residence</td>\n",
       "      <td>213</td>\n",
       "      <td>8</td>\n",
       "    </tr>\n",
       "  </tbody>\n",
       "</table>\n",
       "</div>"
      ],
      "text/plain": [
       "                     userid               venuecat        lat        long  \\\n",
       "timestamp                                                                   \n",
       "2012-04-04 03:17:18    1541         Cosmetics Shop  35.705101  139.619590   \n",
       "2012-04-04 03:22:04     868  Ramen /  Noodle House  35.715581  139.800317   \n",
       "2012-04-04 04:12:07     114      Convenience Store  35.714542  139.480065   \n",
       "2012-04-04 04:12:13     868      Food & Drink Shop  35.725592  139.776633   \n",
       "2012-04-04 04:18:23    1458    Housing Development  35.656083  139.734046   \n",
       "\n",
       "                     day  hour         maincat  venuecat_encoded  \\\n",
       "timestamp                                                          \n",
       "2012-04-04 03:17:18    2     3  Shop & Service               129   \n",
       "2012-04-04 03:22:04    2     3            Food                 2   \n",
       "2012-04-04 04:12:07    2     4  Shop & Service                 3   \n",
       "2012-04-04 04:12:13    2     4  Shop & Service                 6   \n",
       "2012-04-04 04:18:23    2     4       Residence               213   \n",
       "\n",
       "                     maincat_encoded  \n",
       "timestamp                             \n",
       "2012-04-04 03:17:18                1  \n",
       "2012-04-04 03:22:04                2  \n",
       "2012-04-04 04:12:07                1  \n",
       "2012-04-04 04:12:13                1  \n",
       "2012-04-04 04:18:23                8  "
      ]
     },
     "execution_count": 17,
     "metadata": {},
     "output_type": "execute_result"
    }
   ],
   "source": [
    "df.head()"
   ]
  },
  {
   "cell_type": "code",
   "execution_count": 18,
   "metadata": {
    "ExecuteTime": {
     "end_time": "2019-12-11T00:03:16.864771Z",
     "start_time": "2019-12-11T00:03:10.228667Z"
    },
    "collapsed": true
   },
   "outputs": [],
   "source": [
    "# Let's save the dataframe into a .csv file.\n",
    "df.to_csv('df_afterwrangling.csv')"
   ]
  }
 ],
 "metadata": {
  "kernelspec": {
   "display_name": "Python 3",
   "language": "python",
   "name": "python3"
  },
  "language_info": {
   "codemirror_mode": {
    "name": "ipython",
    "version": 3
   },
   "file_extension": ".py",
   "mimetype": "text/x-python",
   "name": "python",
   "nbconvert_exporter": "python",
   "pygments_lexer": "ipython3",
   "version": "3.6.9"
  }
 },
 "nbformat": 4,
 "nbformat_minor": 2
}
