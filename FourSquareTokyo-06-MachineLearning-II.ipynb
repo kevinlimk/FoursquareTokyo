{
 "cells": [
  {
   "cell_type": "markdown",
   "metadata": {},
   "source": [
    "# Predicting Check-ins of Foursquare Users in Tokyo"
   ]
  },
  {
   "cell_type": "markdown",
   "metadata": {},
   "source": [
    "## 6 - Machine Learning II"
   ]
  },
  {
   "cell_type": "code",
   "execution_count": 1,
   "metadata": {
    "ExecuteTime": {
     "end_time": "2018-11-21T00:22:55.731804Z",
     "start_time": "2018-11-21T00:22:45.272655Z"
    },
    "collapsed": true
   },
   "outputs": [],
   "source": [
    "# Import libraries\n",
    "import pandas as pd\n",
    "import numpy as np\n",
    "from datetime import datetime\n",
    "import matplotlib\n",
    "import matplotlib.pyplot as plt\n",
    "import seaborn as sns\n",
    "from scipy.stats import pearsonr\n",
    "from matplotlib import rcParams\n",
    "\n",
    "from sklearn.preprocessing import normalize\n",
    "from sklearn.preprocessing import MinMaxScaler\n",
    "from sklearn.preprocessing import minmax_scale\n",
    "\n",
    "from sklearn.linear_model import LogisticRegression\n",
    "from sklearn.ensemble import RandomForestClassifier\n",
    "from sklearn.decomposition import PCA\n",
    "from sklearn.cluster import KMeans\n",
    "\n",
    "from sklearn.metrics import accuracy_score\n",
    "\n",
    "from sklearn.metrics import confusion_matrix\n",
    "\n",
    "import itertools\n",
    "\n",
    "%matplotlib inline"
   ]
  },
  {
   "cell_type": "code",
   "execution_count": 2,
   "metadata": {
    "ExecuteTime": {
     "end_time": "2018-11-21T00:22:55.738822Z",
     "start_time": "2018-11-21T00:22:55.733810Z"
    },
    "collapsed": true
   },
   "outputs": [],
   "source": [
    "# Setup default matplotlib defaults for later use\n",
    "def defaultsettings():\n",
    "    rcParams.update(matplotlib.rcParamsDefault)\n",
    "    sns.set_style()\n",
    "    sns.set_context()\n",
    "    %matplotlib inline"
   ]
  },
  {
   "cell_type": "code",
   "execution_count": 3,
   "metadata": {
    "ExecuteTime": {
     "end_time": "2018-11-21T00:22:55.759879Z",
     "start_time": "2018-11-21T00:22:55.742833Z"
    },
    "collapsed": true
   },
   "outputs": [],
   "source": [
    "# Setup Seaborn settings for bar plots\n",
    "def postersettings():\n",
    "    rcParams.update(matplotlib.rcParamsDefault)\n",
    "    sns.set_style(\"whitegrid\")\n",
    "    sns.set_context(\"poster\")"
   ]
  },
  {
   "cell_type": "code",
   "execution_count": 4,
   "metadata": {
    "ExecuteTime": {
     "end_time": "2018-11-21T00:22:57.306448Z",
     "start_time": "2018-11-21T00:22:55.794975Z"
    },
    "collapsed": true
   },
   "outputs": [],
   "source": [
    "# Load wrangled data.\n",
    "df = pd.read_csv('df_afterwrangling.csv',\n",
    "                 index_col = 0,\n",
    "                 parse_dates = [0],\n",
    "                 date_parser = pd.to_datetime, \n",
    "                 infer_datetime_format = True)\n",
    "df_stations = pd.read_csv('stations.csv', index_col = 0)"
   ]
  },
  {
   "cell_type": "code",
   "execution_count": 5,
   "metadata": {
    "collapsed": true
   },
   "outputs": [],
   "source": [
    "df_X0 = pd.read_csv('df_X0.csv',\n",
    "                    index_col = 0,\n",
    "                    parse_dates = [0],\n",
    "                    date_parser = pd.to_datetime,\n",
    "                    infer_datetime_format = True)"
   ]
  },
  {
   "cell_type": "code",
   "execution_count": 6,
   "metadata": {
    "collapsed": true
   },
   "outputs": [],
   "source": [
    "df_X1 = pd.read_csv('df_X1.csv',\n",
    "                    index_col = 0,\n",
    "                    parse_dates = [0],\n",
    "                    date_parser = pd.to_datetime,\n",
    "                    infer_datetime_format = True)"
   ]
  },
  {
   "cell_type": "code",
   "execution_count": 7,
   "metadata": {},
   "outputs": [
    {
     "name": "stdout",
     "output_type": "stream",
     "text": [
      "Accuracy: 83.01%\n"
     ]
    }
   ],
   "source": [
    "# Run Logistic Regression\n",
    "\n",
    "Xtrain0 = df_X0['2012-July':'2013-Jan'].drop(['y0', 'y1'], axis = 1)\n",
    "Xtest0 = df_X0['2013-Feb':].drop(['y0', 'y1'], axis = 1)\n",
    "ytrain0 = df_X0['2012-July':'2013-Jan']\n",
    "ytest0 = df_X0['2013-Feb':]\n",
    "\n",
    "clf_LR0 = LogisticRegression()\n",
    "clf_LR0.fit(Xtrain0, ytrain0.y0)\n",
    "ypred0 = clf_LR0.predict(Xtest0)\n",
    "print(\"Accuracy: \" + str(round(accuracy_score(ytest0.y0, ypred0) * 100, 2)) + \"%\")"
   ]
  },
  {
   "cell_type": "code",
   "execution_count": 8,
   "metadata": {
    "collapsed": true
   },
   "outputs": [],
   "source": [
    "calc_accuracy_ypred0 = list(ypred0[ypred0 < 2])\n",
    "calc_accuracy_ytest0 = list(ytest0.y0.values[np.where(ypred0 < 2)])"
   ]
  },
  {
   "cell_type": "code",
   "execution_count": 9,
   "metadata": {},
   "outputs": [
    {
     "name": "stdout",
     "output_type": "stream",
     "text": [
      "PCA Components: 110, KMeans Clusters: 5\n",
      "Accuracy: 46.03%\n",
      "========================================\n"
     ]
    }
   ],
   "source": [
    "x_cols = np.matrix(df_X1.drop([\"userid\", \"y1\"], axis = 1).values)\n",
    "\n",
    "df_accuracy = pd.DataFrame()\n",
    "\n",
    "for ii in [110]:\n",
    "    \n",
    "    pca = PCA(n_components = ii)\n",
    "    pca_features = pca.fit_transform(x_cols)\n",
    "    \n",
    "    accuracy = []\n",
    "    \n",
    "    for jj in [5]:\n",
    "        \n",
    "        clusterer = KMeans(n_clusters = jj, random_state = 1)\n",
    "        cluster_labels = clusterer.fit_predict(pca_features)\n",
    "        \n",
    "        df_pca = pd.DataFrame(pca_features, index = df_X1.index)\n",
    "        df_pca[\"cluster\"] = cluster_labels\n",
    "        df_pca[\"y1\"] = df_X1.y1\n",
    "        \n",
    "        ypred1_jj, ytest1_jj = [], []\n",
    "        \n",
    "        for kk in range(0, jj):\n",
    "            \n",
    "            Xtrain1 = df_pca.loc[df_pca.cluster == kk, : ]['2012-July':'2013-Jan'].drop([\"cluster\", \"y1\"], axis = 1)\n",
    "            ytrain1 = df_pca.loc[df_pca.cluster == kk, : ]['2012-July':'2013-Jan'].y1\n",
    "            \n",
    "            Xtest1 = df_pca.loc[df_pca.cluster == kk, : ]['2013-Feb':].drop([\"cluster\", \"y1\"], axis = 1)\n",
    "            ytest1 = df_pca.loc[df_pca.cluster == kk, : ]['2013-Feb':].y1\n",
    "            \n",
    "            clf_LR1 = LogisticRegression()\n",
    "            clf_LR1.fit(Xtrain1, ytrain1)\n",
    "            ypred1_jj += list(clf_LR1.predict(Xtest1))\n",
    "            ytest1_jj += list(ytest1)\n",
    "        \n",
    "        accuracy_jj = accuracy_score(calc_accuracy_ytest0 + ytest1_jj, calc_accuracy_ypred0 + ypred1_jj) * 100\n",
    "        \n",
    "        accuracy.append(accuracy_jj)\n",
    "            \n",
    "        print(\"PCA Components: \" + str(ii) + \", KMeans Clusters: \" + str(jj))\n",
    "        print('Accuracy: ' + str(round(accuracy_jj, 2)) + \"%\")\n",
    "        print(\"========================================\")\n",
    "        \n",
    "    df_accuracy[\"PCA_components_\" + str(ii)] = accuracy"
   ]
  }
 ],
 "metadata": {
  "kernelspec": {
   "display_name": "Python 3",
   "language": "python",
   "name": "python3"
  },
  "language_info": {
   "codemirror_mode": {
    "name": "ipython",
    "version": 3
   },
   "file_extension": ".py",
   "mimetype": "text/x-python",
   "name": "python",
   "nbconvert_exporter": "python",
   "pygments_lexer": "ipython3",
   "version": "3.6.1"
  }
 },
 "nbformat": 4,
 "nbformat_minor": 2
}
